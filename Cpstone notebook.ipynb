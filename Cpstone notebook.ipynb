{
 "cells": [
  {
   "cell_type": "code",
   "execution_count": 1,
   "id": "d92d9dd2-a64b-4262-b7ff-12596ac2565f",
   "metadata": {},
   "outputs": [],
   "source": [
    "import pandas as pd\n",
    "import numpy as np\n",
    "import matplotlib.pyplot as plt\n",
    "import seaborn as sns"
   ]
  },
  {
   "cell_type": "code",
   "execution_count": 2,
   "id": "1adb26af-5487-4701-843b-e323d6bd9a7a",
   "metadata": {},
   "outputs": [],
   "source": [
    "merged_data = pd.read_csv('merged_data.csv')"
   ]
  },
  {
   "cell_type": "code",
   "execution_count": 3,
   "id": "a240fa9d-e54e-427e-928e-f9343b524468",
   "metadata": {},
   "outputs": [
    {
     "name": "stdout",
     "output_type": "stream",
     "text": [
      "<class 'pandas.core.frame.DataFrame'>\n",
      "RangeIndex: 100480506 entries, 0 to 100480505\n",
      "Data columns (total 4 columns):\n",
      " #   Column      Dtype \n",
      "---  ------      ----- \n",
      " 0   MovieID     int64 \n",
      " 1   CustomerID  int64 \n",
      " 2   Rating      int64 \n",
      " 3   RatingDate  object\n",
      "dtypes: int64(3), object(1)\n",
      "memory usage: 3.0+ GB\n"
     ]
    }
   ],
   "source": [
    "merged_data.info()"
   ]
  },
  {
   "cell_type": "code",
   "execution_count": 4,
   "id": "dcc7bed5-07c6-4814-b83c-1a859d0259fd",
   "metadata": {},
   "outputs": [
    {
     "data": {
      "text/html": [
       "<div>\n",
       "<style scoped>\n",
       "    .dataframe tbody tr th:only-of-type {\n",
       "        vertical-align: middle;\n",
       "    }\n",
       "\n",
       "    .dataframe tbody tr th {\n",
       "        vertical-align: top;\n",
       "    }\n",
       "\n",
       "    .dataframe thead th {\n",
       "        text-align: right;\n",
       "    }\n",
       "</style>\n",
       "<table border=\"1\" class=\"dataframe\">\n",
       "  <thead>\n",
       "    <tr style=\"text-align: right;\">\n",
       "      <th></th>\n",
       "      <th>MovieID</th>\n",
       "      <th>CustomerID</th>\n",
       "      <th>Rating</th>\n",
       "      <th>RatingDate</th>\n",
       "    </tr>\n",
       "  </thead>\n",
       "  <tbody>\n",
       "    <tr>\n",
       "      <th>0</th>\n",
       "      <td>1</td>\n",
       "      <td>1488844</td>\n",
       "      <td>3</td>\n",
       "      <td>2005-09-06</td>\n",
       "    </tr>\n",
       "    <tr>\n",
       "      <th>1</th>\n",
       "      <td>1</td>\n",
       "      <td>822109</td>\n",
       "      <td>5</td>\n",
       "      <td>2005-05-13</td>\n",
       "    </tr>\n",
       "    <tr>\n",
       "      <th>2</th>\n",
       "      <td>1</td>\n",
       "      <td>885013</td>\n",
       "      <td>4</td>\n",
       "      <td>2005-10-19</td>\n",
       "    </tr>\n",
       "    <tr>\n",
       "      <th>3</th>\n",
       "      <td>1</td>\n",
       "      <td>30878</td>\n",
       "      <td>4</td>\n",
       "      <td>2005-12-26</td>\n",
       "    </tr>\n",
       "    <tr>\n",
       "      <th>4</th>\n",
       "      <td>1</td>\n",
       "      <td>823519</td>\n",
       "      <td>3</td>\n",
       "      <td>2004-05-03</td>\n",
       "    </tr>\n",
       "  </tbody>\n",
       "</table>\n",
       "</div>"
      ],
      "text/plain": [
       "   MovieID  CustomerID  Rating  RatingDate\n",
       "0        1     1488844       3  2005-09-06\n",
       "1        1      822109       5  2005-05-13\n",
       "2        1      885013       4  2005-10-19\n",
       "3        1       30878       4  2005-12-26\n",
       "4        1      823519       3  2004-05-03"
      ]
     },
     "execution_count": 4,
     "metadata": {},
     "output_type": "execute_result"
    }
   ],
   "source": [
    "merged_data.head()"
   ]
  },
  {
   "cell_type": "markdown",
   "id": "30a86a19-a1cb-455e-9f5c-44b131141789",
   "metadata": {},
   "source": [
    "movies.head()"
   ]
  },
  {
   "cell_type": "code",
   "execution_count": 244,
   "id": "fb4312d7-7ae5-4f89-af66-a3bf46992a5d",
   "metadata": {},
   "outputs": [
    {
     "data": {
      "text/html": [
       "<div>\n",
       "<style scoped>\n",
       "    .dataframe tbody tr th:only-of-type {\n",
       "        vertical-align: middle;\n",
       "    }\n",
       "\n",
       "    .dataframe tbody tr th {\n",
       "        vertical-align: top;\n",
       "    }\n",
       "\n",
       "    .dataframe thead th {\n",
       "        text-align: right;\n",
       "    }\n",
       "</style>\n",
       "<table border=\"1\" class=\"dataframe\">\n",
       "  <thead>\n",
       "    <tr style=\"text-align: right;\">\n",
       "      <th></th>\n",
       "      <th>MovieID</th>\n",
       "      <th>title</th>\n",
       "      <th>genre</th>\n",
       "      <th>original_language</th>\n",
       "      <th>overview</th>\n",
       "      <th>popularity</th>\n",
       "      <th>release_date</th>\n",
       "      <th>vote_average</th>\n",
       "      <th>vote_count</th>\n",
       "    </tr>\n",
       "  </thead>\n",
       "  <tbody>\n",
       "    <tr>\n",
       "      <th>0</th>\n",
       "      <td>278</td>\n",
       "      <td>The Shawshank Redemption</td>\n",
       "      <td>Drama,Crime</td>\n",
       "      <td>en</td>\n",
       "      <td>Framed in the 1940s for the double murder of h...</td>\n",
       "      <td>94.075</td>\n",
       "      <td>1994-09-23</td>\n",
       "      <td>8.7</td>\n",
       "      <td>21862</td>\n",
       "    </tr>\n",
       "    <tr>\n",
       "      <th>1</th>\n",
       "      <td>19404</td>\n",
       "      <td>Dilwale Dulhania Le Jayenge</td>\n",
       "      <td>Comedy,Drama,Romance</td>\n",
       "      <td>hi</td>\n",
       "      <td>Raj is a rich, carefree, happy-go-lucky second...</td>\n",
       "      <td>25.408</td>\n",
       "      <td>1995-10-19</td>\n",
       "      <td>8.7</td>\n",
       "      <td>3731</td>\n",
       "    </tr>\n",
       "    <tr>\n",
       "      <th>2</th>\n",
       "      <td>238</td>\n",
       "      <td>The Godfather</td>\n",
       "      <td>Drama,Crime</td>\n",
       "      <td>en</td>\n",
       "      <td>Spanning the years 1945 to 1955, a chronicle o...</td>\n",
       "      <td>90.585</td>\n",
       "      <td>1972-03-14</td>\n",
       "      <td>8.7</td>\n",
       "      <td>16280</td>\n",
       "    </tr>\n",
       "    <tr>\n",
       "      <th>3</th>\n",
       "      <td>424</td>\n",
       "      <td>Schindler's List</td>\n",
       "      <td>Drama,History,War</td>\n",
       "      <td>en</td>\n",
       "      <td>The true story of how businessman Oskar Schind...</td>\n",
       "      <td>44.761</td>\n",
       "      <td>1993-12-15</td>\n",
       "      <td>8.6</td>\n",
       "      <td>12959</td>\n",
       "    </tr>\n",
       "    <tr>\n",
       "      <th>4</th>\n",
       "      <td>240</td>\n",
       "      <td>The Godfather: Part II</td>\n",
       "      <td>Drama,Crime</td>\n",
       "      <td>en</td>\n",
       "      <td>In the continuing saga of the Corleone crime f...</td>\n",
       "      <td>57.749</td>\n",
       "      <td>1974-12-20</td>\n",
       "      <td>8.6</td>\n",
       "      <td>9811</td>\n",
       "    </tr>\n",
       "  </tbody>\n",
       "</table>\n",
       "</div>"
      ],
      "text/plain": [
       "   MovieID                        title                 genre  \\\n",
       "0      278     The Shawshank Redemption           Drama,Crime   \n",
       "1    19404  Dilwale Dulhania Le Jayenge  Comedy,Drama,Romance   \n",
       "2      238                The Godfather           Drama,Crime   \n",
       "3      424             Schindler's List     Drama,History,War   \n",
       "4      240       The Godfather: Part II           Drama,Crime   \n",
       "\n",
       "  original_language                                           overview  \\\n",
       "0                en  Framed in the 1940s for the double murder of h...   \n",
       "1                hi  Raj is a rich, carefree, happy-go-lucky second...   \n",
       "2                en  Spanning the years 1945 to 1955, a chronicle o...   \n",
       "3                en  The true story of how businessman Oskar Schind...   \n",
       "4                en  In the continuing saga of the Corleone crime f...   \n",
       "\n",
       "   popularity release_date  vote_average  vote_count  \n",
       "0      94.075   1994-09-23           8.7       21862  \n",
       "1      25.408   1995-10-19           8.7        3731  \n",
       "2      90.585   1972-03-14           8.7       16280  \n",
       "3      44.761   1993-12-15           8.6       12959  \n",
       "4      57.749   1974-12-20           8.6        9811  "
      ]
     },
     "execution_count": 244,
     "metadata": {},
     "output_type": "execute_result"
    }
   ],
   "source": [
    "movies.head()"
   ]
  },
  {
   "cell_type": "code",
   "execution_count": 226,
   "id": "ca1f4d06-e3f6-4e67-bebe-df700523fec4",
   "metadata": {},
   "outputs": [
    {
     "name": "stdout",
     "output_type": "stream",
     "text": [
      "Enter a Movie Title, Movie ID, or CustomerID:  ironman\n"
     ]
    },
    {
     "name": "stdout",
     "output_type": "stream",
     "text": [
      "\n",
      "Content-Based Filtering Recommendations for 'ironman':\n",
      "Recommendation 1: Vehicle 19\n",
      "Recommendation 2: Memoir of a Murderer\n",
      "Recommendation 3: Hangman\n",
      "Recommendation 4: Replicant\n",
      "Recommendation 5: 21 Bridges\n",
      "Recommendation 6: The House That Jack Built\n",
      "Recommendation 7: The Frozen Ground\n",
      "Recommendation 8: Triple 9\n",
      "Recommendation 9: The Postcard Killings\n",
      "Recommendation 10: Kalifornia\n"
     ]
    }
   ],
   "source": [
    "def get_hybrid_recommendations(input_value):\n",
    "    if input_value.isdigit():\n",
    "        # Input is a CustomerID\n",
    "        CustomerID = int(input_value)\n",
    "        if CustomerID in collaborative_recs:\n",
    "            print(\"Collaborative Filtering Recommendations for CustomerID\", CustomerID)\n",
    "            for i, (movie_id, est_rating) in enumerate(collaborative_recs[CustomerID][:10]):\n",
    "                movie_title = get_movie_title_from_id(movie_id)\n",
    "                print(f\"Recommendation {i+1}: Movie Title: {movie_title}, Movie ID: {movie_id}, Estimated Rating: {est_rating}\")\n",
    "        else:\n",
    "            print(f\"No collaborative filtering recommendations found for CustomerID {CustomerID}\")\n",
    "    else:\n",
    "        # Input is a movie title or movie ID\n",
    "        if input_value.isdigit():\n",
    "            movie_id = int(input_value)\n",
    "            movie_title = get_movie_title_from_id(movie_id)\n",
    "        else:\n",
    "            movie_title = input_value\n",
    "\n",
    "        # Content-based filtering recommendations for a specific movie\n",
    "        recommendations = get_recommendations_for_movie(movie_title)\n",
    "        print(\"\\nContent-Based Filtering Recommendations for '{}':\".format(movie_title))\n",
    "        for i, recommendation in enumerate(recommendations[:10]):\n",
    "            print(f\"Recommendation {i+1}: {recommendation}\")\n",
    "\n",
    "# Example usage:\n",
    "input_value = input(\"Enter a Movie Title, Movie ID, or CustomerID: \")\n",
    "get_hybrid_recommendations(input_value)\n"
   ]
  },
  {
   "cell_type": "code",
   "execution_count": 5,
   "id": "83dd4724-8827-451d-8f79-f596fbe09bf0",
   "metadata": {},
   "outputs": [
    {
     "name": "stdout",
     "output_type": "stream",
     "text": [
      "                                              title  \\\n",
      "0                          The Shawshank Redemption   \n",
      "1                       Dilwale Dulhania Le Jayenge   \n",
      "2                                     The Godfather   \n",
      "3                                  Schindler's List   \n",
      "4                            The Godfather: Part II   \n",
      "...                                             ...   \n",
      "9995                             The Last Airbender   \n",
      "9996                       Sharknado 3: Oh Hell No!   \n",
      "9997                                Captain America   \n",
      "9998  In the Name of the King: A Dungeon Siege Tale   \n",
      "9999                                         Domino   \n",
      "\n",
      "                                                 genres original_language  \\\n",
      "0                                        [Drama, Crime]                en   \n",
      "1                              [Comedy, Drama, Romance]                hi   \n",
      "2                                        [Drama, Crime]                en   \n",
      "3                                 [Drama, History, War]                en   \n",
      "4                                        [Drama, Crime]                en   \n",
      "...                                                 ...               ...   \n",
      "9995                       [Action, Adventure, Fantasy]                en   \n",
      "9996  [Action, TV Movie, Science Fiction, Comedy, Ad...                en   \n",
      "9997                     [Action, Science Fiction, War]                en   \n",
      "9998                [Adventure, Fantasy, Action, Drama]                en   \n",
      "9999                          [Thriller, Action, Crime]                en   \n",
      "\n",
      "      popularity release_date  vote_average  vote_count  \n",
      "0         94.075   1994-09-23           8.7       21862  \n",
      "1         25.408   1995-10-19           8.7        3731  \n",
      "2         90.585   1972-03-14           8.7       16280  \n",
      "3         44.761   1993-12-15           8.6       12959  \n",
      "4         57.749   1974-12-20           8.6        9811  \n",
      "...          ...          ...           ...         ...  \n",
      "9995      98.322   2010-06-30           4.7        3347  \n",
      "9996      12.490   2015-07-22           4.7         417  \n",
      "9997      18.333   1990-12-14           4.6         332  \n",
      "9998      15.159   2007-11-29           4.7         668  \n",
      "9999      16.482   2019-05-31           4.6         221  \n",
      "\n",
      "[10000 rows x 7 columns]\n"
     ]
    }
   ],
   "source": [
    "import pandas as pd\n",
    "\n",
    "# Provided movie data\n",
    "\n",
    "movies=pd.read_csv('dataset.csv')\n",
    "# Rename the 'id' column to 'movie_id' and assign it back to the DataFrame\n",
    "movies = movies.rename(columns={'id': 'MovieID'})\n",
    "\n",
    "# Convert dictionary to DataFrame\n",
    "df = pd.DataFrame(movies)\n",
    "\n",
    "# Convert release_date to datetime\n",
    "df['release_date'] = pd.to_datetime(df['release_date'])\n",
    "\n",
    "# Split genres into individual genres\n",
    "df['genres'] = df['genre'].str.split(',')\n",
    "\n",
    "# Select features for modeling\n",
    "features = ['title', 'genres', 'original_language', 'popularity', 'release_date', 'vote_average', 'vote_count']\n",
    "df_model = df[features]\n",
    "\n",
    "# Print the processed DataFrame\n",
    "print(df_model)\n"
   ]
  },
  {
   "cell_type": "code",
   "execution_count": 6,
   "id": "62ebd496-e53e-496a-8d42-ae65e2e1cc24",
   "metadata": {},
   "outputs": [
    {
     "data": {
      "text/html": [
       "<div>\n",
       "<style scoped>\n",
       "    .dataframe tbody tr th:only-of-type {\n",
       "        vertical-align: middle;\n",
       "    }\n",
       "\n",
       "    .dataframe tbody tr th {\n",
       "        vertical-align: top;\n",
       "    }\n",
       "\n",
       "    .dataframe thead th {\n",
       "        text-align: right;\n",
       "    }\n",
       "</style>\n",
       "<table border=\"1\" class=\"dataframe\">\n",
       "  <thead>\n",
       "    <tr style=\"text-align: right;\">\n",
       "      <th></th>\n",
       "      <th>MovieID</th>\n",
       "      <th>popularity</th>\n",
       "      <th>release_date</th>\n",
       "      <th>vote_average</th>\n",
       "      <th>vote_count</th>\n",
       "    </tr>\n",
       "  </thead>\n",
       "  <tbody>\n",
       "    <tr>\n",
       "      <th>count</th>\n",
       "      <td>10000.000000</td>\n",
       "      <td>10000.000000</td>\n",
       "      <td>10000</td>\n",
       "      <td>10000.000000</td>\n",
       "      <td>10000.000000</td>\n",
       "    </tr>\n",
       "    <tr>\n",
       "      <th>mean</th>\n",
       "      <td>161243.505000</td>\n",
       "      <td>34.697267</td>\n",
       "      <td>2003-11-12 00:01:00.480000128</td>\n",
       "      <td>6.621150</td>\n",
       "      <td>1547.309400</td>\n",
       "    </tr>\n",
       "    <tr>\n",
       "      <th>min</th>\n",
       "      <td>5.000000</td>\n",
       "      <td>0.600000</td>\n",
       "      <td>1902-04-17 00:00:00</td>\n",
       "      <td>4.600000</td>\n",
       "      <td>200.000000</td>\n",
       "    </tr>\n",
       "    <tr>\n",
       "      <th>25%</th>\n",
       "      <td>10127.750000</td>\n",
       "      <td>9.154750</td>\n",
       "      <td>1997-02-27 18:00:00</td>\n",
       "      <td>6.100000</td>\n",
       "      <td>315.000000</td>\n",
       "    </tr>\n",
       "    <tr>\n",
       "      <th>50%</th>\n",
       "      <td>30002.500000</td>\n",
       "      <td>13.637500</td>\n",
       "      <td>2009-01-22 12:00:00</td>\n",
       "      <td>6.600000</td>\n",
       "      <td>583.500000</td>\n",
       "    </tr>\n",
       "    <tr>\n",
       "      <th>75%</th>\n",
       "      <td>310133.500000</td>\n",
       "      <td>25.651250</td>\n",
       "      <td>2016-01-14 00:00:00</td>\n",
       "      <td>7.200000</td>\n",
       "      <td>1460.000000</td>\n",
       "    </tr>\n",
       "    <tr>\n",
       "      <th>max</th>\n",
       "      <td>934761.000000</td>\n",
       "      <td>10436.917000</td>\n",
       "      <td>2022-07-13 00:00:00</td>\n",
       "      <td>8.700000</td>\n",
       "      <td>31917.000000</td>\n",
       "    </tr>\n",
       "    <tr>\n",
       "      <th>std</th>\n",
       "      <td>211422.046043</td>\n",
       "      <td>211.684175</td>\n",
       "      <td>NaN</td>\n",
       "      <td>0.766231</td>\n",
       "      <td>2648.295789</td>\n",
       "    </tr>\n",
       "  </tbody>\n",
       "</table>\n",
       "</div>"
      ],
      "text/plain": [
       "             MovieID    popularity                   release_date  \\\n",
       "count   10000.000000  10000.000000                          10000   \n",
       "mean   161243.505000     34.697267  2003-11-12 00:01:00.480000128   \n",
       "min         5.000000      0.600000            1902-04-17 00:00:00   \n",
       "25%     10127.750000      9.154750            1997-02-27 18:00:00   \n",
       "50%     30002.500000     13.637500            2009-01-22 12:00:00   \n",
       "75%    310133.500000     25.651250            2016-01-14 00:00:00   \n",
       "max    934761.000000  10436.917000            2022-07-13 00:00:00   \n",
       "std    211422.046043    211.684175                            NaN   \n",
       "\n",
       "       vote_average    vote_count  \n",
       "count  10000.000000  10000.000000  \n",
       "mean       6.621150   1547.309400  \n",
       "min        4.600000    200.000000  \n",
       "25%        6.100000    315.000000  \n",
       "50%        6.600000    583.500000  \n",
       "75%        7.200000   1460.000000  \n",
       "max        8.700000  31917.000000  \n",
       "std        0.766231   2648.295789  "
      ]
     },
     "execution_count": 6,
     "metadata": {},
     "output_type": "execute_result"
    }
   ],
   "source": [
    "df.describe()"
   ]
  },
  {
   "cell_type": "code",
   "execution_count": 51,
   "id": "822bd0ab-86cc-4c11-9966-1ad7cd5c60d8",
   "metadata": {},
   "outputs": [
    {
     "data": {
      "text/html": [
       "<div>\n",
       "<style scoped>\n",
       "    .dataframe tbody tr th:only-of-type {\n",
       "        vertical-align: middle;\n",
       "    }\n",
       "\n",
       "    .dataframe tbody tr th {\n",
       "        vertical-align: top;\n",
       "    }\n",
       "\n",
       "    .dataframe thead th {\n",
       "        text-align: right;\n",
       "    }\n",
       "</style>\n",
       "<table border=\"1\" class=\"dataframe\">\n",
       "  <thead>\n",
       "    <tr style=\"text-align: right;\">\n",
       "      <th></th>\n",
       "      <th>title</th>\n",
       "      <th>genres</th>\n",
       "      <th>original_language</th>\n",
       "      <th>popularity</th>\n",
       "      <th>release_date</th>\n",
       "      <th>vote_average</th>\n",
       "      <th>vote_count</th>\n",
       "    </tr>\n",
       "  </thead>\n",
       "  <tbody>\n",
       "    <tr>\n",
       "      <th>9995</th>\n",
       "      <td>The Last Airbender</td>\n",
       "      <td>[Action, Adventure, Fantasy]</td>\n",
       "      <td>en</td>\n",
       "      <td>98.322</td>\n",
       "      <td>2010-06-30</td>\n",
       "      <td>4.7</td>\n",
       "      <td>3347</td>\n",
       "    </tr>\n",
       "    <tr>\n",
       "      <th>9996</th>\n",
       "      <td>Sharknado 3: Oh Hell No!</td>\n",
       "      <td>[Action, TV Movie, Science Fiction, Comedy, Ad...</td>\n",
       "      <td>en</td>\n",
       "      <td>12.490</td>\n",
       "      <td>2015-07-22</td>\n",
       "      <td>4.7</td>\n",
       "      <td>417</td>\n",
       "    </tr>\n",
       "    <tr>\n",
       "      <th>9997</th>\n",
       "      <td>Captain America</td>\n",
       "      <td>[Action, Science Fiction, War]</td>\n",
       "      <td>en</td>\n",
       "      <td>18.333</td>\n",
       "      <td>1990-12-14</td>\n",
       "      <td>4.6</td>\n",
       "      <td>332</td>\n",
       "    </tr>\n",
       "    <tr>\n",
       "      <th>9998</th>\n",
       "      <td>In the Name of the King: A Dungeon Siege Tale</td>\n",
       "      <td>[Adventure, Fantasy, Action, Drama]</td>\n",
       "      <td>en</td>\n",
       "      <td>15.159</td>\n",
       "      <td>2007-11-29</td>\n",
       "      <td>4.7</td>\n",
       "      <td>668</td>\n",
       "    </tr>\n",
       "    <tr>\n",
       "      <th>9999</th>\n",
       "      <td>Domino</td>\n",
       "      <td>[Thriller, Action, Crime]</td>\n",
       "      <td>en</td>\n",
       "      <td>16.482</td>\n",
       "      <td>2019-05-31</td>\n",
       "      <td>4.6</td>\n",
       "      <td>221</td>\n",
       "    </tr>\n",
       "  </tbody>\n",
       "</table>\n",
       "</div>"
      ],
      "text/plain": [
       "                                              title  \\\n",
       "9995                             The Last Airbender   \n",
       "9996                       Sharknado 3: Oh Hell No!   \n",
       "9997                                Captain America   \n",
       "9998  In the Name of the King: A Dungeon Siege Tale   \n",
       "9999                                         Domino   \n",
       "\n",
       "                                                 genres original_language  \\\n",
       "9995                       [Action, Adventure, Fantasy]                en   \n",
       "9996  [Action, TV Movie, Science Fiction, Comedy, Ad...                en   \n",
       "9997                     [Action, Science Fiction, War]                en   \n",
       "9998                [Adventure, Fantasy, Action, Drama]                en   \n",
       "9999                          [Thriller, Action, Crime]                en   \n",
       "\n",
       "      popularity release_date  vote_average  vote_count  \n",
       "9995      98.322   2010-06-30           4.7        3347  \n",
       "9996      12.490   2015-07-22           4.7         417  \n",
       "9997      18.333   1990-12-14           4.6         332  \n",
       "9998      15.159   2007-11-29           4.7         668  \n",
       "9999      16.482   2019-05-31           4.6         221  "
      ]
     },
     "execution_count": 51,
     "metadata": {},
     "output_type": "execute_result"
    }
   ],
   "source": [
    "df_model.tail()"
   ]
  },
  {
   "cell_type": "code",
   "execution_count": 8,
   "id": "2d6ea190-3a31-4070-8da9-bfcc0e13ccb2",
   "metadata": {},
   "outputs": [
    {
     "data": {
      "text/html": [
       "<div>\n",
       "<style scoped>\n",
       "    .dataframe tbody tr th:only-of-type {\n",
       "        vertical-align: middle;\n",
       "    }\n",
       "\n",
       "    .dataframe tbody tr th {\n",
       "        vertical-align: top;\n",
       "    }\n",
       "\n",
       "    .dataframe thead th {\n",
       "        text-align: right;\n",
       "    }\n",
       "</style>\n",
       "<table border=\"1\" class=\"dataframe\">\n",
       "  <thead>\n",
       "    <tr style=\"text-align: right;\">\n",
       "      <th></th>\n",
       "      <th>MovieID</th>\n",
       "      <th>title</th>\n",
       "      <th>genre</th>\n",
       "      <th>original_language</th>\n",
       "      <th>overview</th>\n",
       "      <th>popularity</th>\n",
       "      <th>release_date</th>\n",
       "      <th>vote_average</th>\n",
       "      <th>vote_count</th>\n",
       "    </tr>\n",
       "  </thead>\n",
       "  <tbody>\n",
       "    <tr>\n",
       "      <th>0</th>\n",
       "      <td>278</td>\n",
       "      <td>The Shawshank Redemption</td>\n",
       "      <td>Drama,Crime</td>\n",
       "      <td>en</td>\n",
       "      <td>Framed in the 1940s for the double murder of h...</td>\n",
       "      <td>94.075</td>\n",
       "      <td>1994-09-23</td>\n",
       "      <td>8.7</td>\n",
       "      <td>21862</td>\n",
       "    </tr>\n",
       "    <tr>\n",
       "      <th>1</th>\n",
       "      <td>19404</td>\n",
       "      <td>Dilwale Dulhania Le Jayenge</td>\n",
       "      <td>Comedy,Drama,Romance</td>\n",
       "      <td>hi</td>\n",
       "      <td>Raj is a rich, carefree, happy-go-lucky second...</td>\n",
       "      <td>25.408</td>\n",
       "      <td>1995-10-19</td>\n",
       "      <td>8.7</td>\n",
       "      <td>3731</td>\n",
       "    </tr>\n",
       "    <tr>\n",
       "      <th>2</th>\n",
       "      <td>238</td>\n",
       "      <td>The Godfather</td>\n",
       "      <td>Drama,Crime</td>\n",
       "      <td>en</td>\n",
       "      <td>Spanning the years 1945 to 1955, a chronicle o...</td>\n",
       "      <td>90.585</td>\n",
       "      <td>1972-03-14</td>\n",
       "      <td>8.7</td>\n",
       "      <td>16280</td>\n",
       "    </tr>\n",
       "    <tr>\n",
       "      <th>3</th>\n",
       "      <td>424</td>\n",
       "      <td>Schindler's List</td>\n",
       "      <td>Drama,History,War</td>\n",
       "      <td>en</td>\n",
       "      <td>The true story of how businessman Oskar Schind...</td>\n",
       "      <td>44.761</td>\n",
       "      <td>1993-12-15</td>\n",
       "      <td>8.6</td>\n",
       "      <td>12959</td>\n",
       "    </tr>\n",
       "    <tr>\n",
       "      <th>4</th>\n",
       "      <td>240</td>\n",
       "      <td>The Godfather: Part II</td>\n",
       "      <td>Drama,Crime</td>\n",
       "      <td>en</td>\n",
       "      <td>In the continuing saga of the Corleone crime f...</td>\n",
       "      <td>57.749</td>\n",
       "      <td>1974-12-20</td>\n",
       "      <td>8.6</td>\n",
       "      <td>9811</td>\n",
       "    </tr>\n",
       "  </tbody>\n",
       "</table>\n",
       "</div>"
      ],
      "text/plain": [
       "   MovieID                        title                 genre  \\\n",
       "0      278     The Shawshank Redemption           Drama,Crime   \n",
       "1    19404  Dilwale Dulhania Le Jayenge  Comedy,Drama,Romance   \n",
       "2      238                The Godfather           Drama,Crime   \n",
       "3      424             Schindler's List     Drama,History,War   \n",
       "4      240       The Godfather: Part II           Drama,Crime   \n",
       "\n",
       "  original_language                                           overview  \\\n",
       "0                en  Framed in the 1940s for the double murder of h...   \n",
       "1                hi  Raj is a rich, carefree, happy-go-lucky second...   \n",
       "2                en  Spanning the years 1945 to 1955, a chronicle o...   \n",
       "3                en  The true story of how businessman Oskar Schind...   \n",
       "4                en  In the continuing saga of the Corleone crime f...   \n",
       "\n",
       "   popularity release_date  vote_average  vote_count  \n",
       "0      94.075   1994-09-23           8.7       21862  \n",
       "1      25.408   1995-10-19           8.7        3731  \n",
       "2      90.585   1972-03-14           8.7       16280  \n",
       "3      44.761   1993-12-15           8.6       12959  \n",
       "4      57.749   1974-12-20           8.6        9811  "
      ]
     },
     "execution_count": 8,
     "metadata": {},
     "output_type": "execute_result"
    }
   ],
   "source": [
    "movies.head()"
   ]
  },
  {
   "cell_type": "code",
   "execution_count": 9,
   "id": "c9256851-6640-4cf6-b471-e1508ce37fbe",
   "metadata": {},
   "outputs": [],
   "source": [
    "# Replace NaN values with an empty string\n",
    "df['overview'] = df['overview'].fillna('')\n",
    "df['genre'] = df['genre'].fillna('')"
   ]
  },
  {
   "cell_type": "code",
   "execution_count": 10,
   "id": "e506ca46-1e5d-426e-967f-94929c07cf1a",
   "metadata": {},
   "outputs": [
    {
     "data": {
      "text/plain": [
       "MovieID               0\n",
       "title                 0\n",
       "genre                 3\n",
       "original_language     0\n",
       "overview             13\n",
       "popularity            0\n",
       "release_date          0\n",
       "vote_average          0\n",
       "vote_count            0\n",
       "dtype: int64"
      ]
     },
     "execution_count": 10,
     "metadata": {},
     "output_type": "execute_result"
    }
   ],
   "source": [
    "movies.isnull().sum()"
   ]
  },
  {
   "cell_type": "code",
   "execution_count": 11,
   "id": "ccc60824-37cf-4a35-b6af-66c7f37a78ba",
   "metadata": {},
   "outputs": [
    {
     "name": "stdout",
     "output_type": "stream",
     "text": [
      "Requirement already satisfied: tqdm in ./myenv/lib/python3.11/site-packages (4.66.2)\n",
      "Note: you may need to restart the kernel to use updated packages.\n"
     ]
    }
   ],
   "source": [
    "pip install tqdm\n"
   ]
  },
  {
   "cell_type": "code",
   "execution_count": 12,
   "id": "057684b8-cd1c-42c4-8e47-4bb35a8fb067",
   "metadata": {},
   "outputs": [
    {
     "name": "stderr",
     "output_type": "stream",
     "text": [
      "100%|████████████████████████████████████████████████████████████████████████████████████████████████████████████████████████████| 100480506/100480506 [00:10<00:00, 9876312.24it/s]"
     ]
    },
    {
     "name": "stdout",
     "output_type": "stream",
     "text": [
      "          MovieID                                          title  \\\n",
      "0             278                       The Shawshank Redemption   \n",
      "1             278                       The Shawshank Redemption   \n",
      "2             278                       The Shawshank Redemption   \n",
      "3             278                       The Shawshank Redemption   \n",
      "4             278                       The Shawshank Redemption   \n",
      "...           ...                                            ...   \n",
      "24029944     2312  In the Name of the King: A Dungeon Siege Tale   \n",
      "24029945     2312  In the Name of the King: A Dungeon Siege Tale   \n",
      "24029946     2312  In the Name of the King: A Dungeon Siege Tale   \n",
      "24029947     2312  In the Name of the King: A Dungeon Siege Tale   \n",
      "24029948     2312  In the Name of the King: A Dungeon Siege Tale   \n",
      "\n",
      "                                   genre original_language  \\\n",
      "0                            Drama,Crime                en   \n",
      "1                            Drama,Crime                en   \n",
      "2                            Drama,Crime                en   \n",
      "3                            Drama,Crime                en   \n",
      "4                            Drama,Crime                en   \n",
      "...                                  ...               ...   \n",
      "24029944  Adventure,Fantasy,Action,Drama                en   \n",
      "24029945  Adventure,Fantasy,Action,Drama                en   \n",
      "24029946  Adventure,Fantasy,Action,Drama                en   \n",
      "24029947  Adventure,Fantasy,Action,Drama                en   \n",
      "24029948  Adventure,Fantasy,Action,Drama                en   \n",
      "\n",
      "                                                   overview  popularity  \\\n",
      "0         Framed in the 1940s for the double murder of h...      94.075   \n",
      "1         Framed in the 1940s for the double murder of h...      94.075   \n",
      "2         Framed in the 1940s for the double murder of h...      94.075   \n",
      "3         Framed in the 1940s for the double murder of h...      94.075   \n",
      "4         Framed in the 1940s for the double murder of h...      94.075   \n",
      "...                                                     ...         ...   \n",
      "24029944  A man named Farmer sets out to rescue his kidn...      15.159   \n",
      "24029945  A man named Farmer sets out to rescue his kidn...      15.159   \n",
      "24029946  A man named Farmer sets out to rescue his kidn...      15.159   \n",
      "24029947  A man named Farmer sets out to rescue his kidn...      15.159   \n",
      "24029948  A man named Farmer sets out to rescue his kidn...      15.159   \n",
      "\n",
      "         release_date  vote_average  vote_count  CustomerID  Rating  \\\n",
      "0          1994-09-23           8.7       21862     1673256       2   \n",
      "1          1994-09-23           8.7       21862      882735       2   \n",
      "2          1994-09-23           8.7       21862     2542972       2   \n",
      "3          1994-09-23           8.7       21862     1174202       1   \n",
      "4          1994-09-23           8.7       21862     2434480       1   \n",
      "...               ...           ...         ...         ...     ...   \n",
      "24029944   2007-11-29           4.7         668     1969084       3   \n",
      "24029945   2007-11-29           4.7         668      208724       1   \n",
      "24029946   2007-11-29           4.7         668     1713558       1   \n",
      "24029947   2007-11-29           4.7         668     2636875       5   \n",
      "24029948   2007-11-29           4.7         668     1203467       1   \n",
      "\n",
      "          RatingDate  \n",
      "0         2002-10-11  \n",
      "1         2005-06-24  \n",
      "2         2005-08-29  \n",
      "3         2005-06-30  \n",
      "4         2001-10-05  \n",
      "...              ...  \n",
      "24029944  2005-06-02  \n",
      "24029945  2004-08-02  \n",
      "24029946  2004-05-01  \n",
      "24029947  2004-03-28  \n",
      "24029948  2004-11-29  \n",
      "\n",
      "[24029949 rows x 12 columns]\n"
     ]
    },
    {
     "name": "stderr",
     "output_type": "stream",
     "text": [
      "\n"
     ]
    }
   ],
   "source": [
    "import pandas as pd\n",
    "from tqdm import tqdm\n",
    "\n",
    "# Assuming 'movies' is your movies dataset and 'merged_data' is your merged data\n",
    "# Get the total number of rows for tqdm\n",
    "total_rows = len(merged_data)\n",
    "\n",
    "# Initialize tqdm to display progress\n",
    "with tqdm(total=total_rows) as pbar:\n",
    "    # Concatenate the two DataFrames along the 'MovieID' column and include all columns\n",
    "    concatenated_data = pd.merge(movies, merged_data, on='MovieID', how='inner', suffixes=('_movies', '_merged'))\n",
    "    pbar.update(total_rows)\n",
    "\n",
    "# Display the concatenated DataFrame\n",
    "print(concatenated_data)\n"
   ]
  },
  {
   "cell_type": "code",
   "execution_count": 13,
   "id": "e191a300-9ffc-47b7-b820-f85db7bd0888",
   "metadata": {},
   "outputs": [
    {
     "name": "stdout",
     "output_type": "stream",
     "text": [
      "<class 'pandas.core.frame.DataFrame'>\n",
      "RangeIndex: 24029949 entries, 0 to 24029948\n",
      "Data columns (total 12 columns):\n",
      " #   Column             Dtype  \n",
      "---  ------             -----  \n",
      " 0   MovieID            int64  \n",
      " 1   title              object \n",
      " 2   genre              object \n",
      " 3   original_language  object \n",
      " 4   overview           object \n",
      " 5   popularity         float64\n",
      " 6   release_date       object \n",
      " 7   vote_average       float64\n",
      " 8   vote_count         int64  \n",
      " 9   CustomerID         int64  \n",
      " 10  Rating             int64  \n",
      " 11  RatingDate         object \n",
      "dtypes: float64(2), int64(4), object(6)\n",
      "memory usage: 2.1+ GB\n"
     ]
    }
   ],
   "source": [
    "concatenated_data.info()"
   ]
  },
  {
   "cell_type": "code",
   "execution_count": 14,
   "id": "52b5e222-55e3-4ded-9838-34ec244d49b6",
   "metadata": {},
   "outputs": [
    {
     "data": {
      "text/html": [
       "<div>\n",
       "<style scoped>\n",
       "    .dataframe tbody tr th:only-of-type {\n",
       "        vertical-align: middle;\n",
       "    }\n",
       "\n",
       "    .dataframe tbody tr th {\n",
       "        vertical-align: top;\n",
       "    }\n",
       "\n",
       "    .dataframe thead th {\n",
       "        text-align: right;\n",
       "    }\n",
       "</style>\n",
       "<table border=\"1\" class=\"dataframe\">\n",
       "  <thead>\n",
       "    <tr style=\"text-align: right;\">\n",
       "      <th></th>\n",
       "      <th>MovieID</th>\n",
       "      <th>title</th>\n",
       "      <th>genre</th>\n",
       "      <th>original_language</th>\n",
       "      <th>overview</th>\n",
       "      <th>popularity</th>\n",
       "      <th>release_date</th>\n",
       "      <th>vote_average</th>\n",
       "      <th>vote_count</th>\n",
       "      <th>CustomerID</th>\n",
       "      <th>Rating</th>\n",
       "      <th>RatingDate</th>\n",
       "    </tr>\n",
       "  </thead>\n",
       "  <tbody>\n",
       "    <tr>\n",
       "      <th>24029944</th>\n",
       "      <td>2312</td>\n",
       "      <td>In the Name of the King: A Dungeon Siege Tale</td>\n",
       "      <td>Adventure,Fantasy,Action,Drama</td>\n",
       "      <td>en</td>\n",
       "      <td>A man named Farmer sets out to rescue his kidn...</td>\n",
       "      <td>15.159</td>\n",
       "      <td>2007-11-29</td>\n",
       "      <td>4.7</td>\n",
       "      <td>668</td>\n",
       "      <td>1969084</td>\n",
       "      <td>3</td>\n",
       "      <td>2005-06-02</td>\n",
       "    </tr>\n",
       "    <tr>\n",
       "      <th>24029945</th>\n",
       "      <td>2312</td>\n",
       "      <td>In the Name of the King: A Dungeon Siege Tale</td>\n",
       "      <td>Adventure,Fantasy,Action,Drama</td>\n",
       "      <td>en</td>\n",
       "      <td>A man named Farmer sets out to rescue his kidn...</td>\n",
       "      <td>15.159</td>\n",
       "      <td>2007-11-29</td>\n",
       "      <td>4.7</td>\n",
       "      <td>668</td>\n",
       "      <td>208724</td>\n",
       "      <td>1</td>\n",
       "      <td>2004-08-02</td>\n",
       "    </tr>\n",
       "    <tr>\n",
       "      <th>24029946</th>\n",
       "      <td>2312</td>\n",
       "      <td>In the Name of the King: A Dungeon Siege Tale</td>\n",
       "      <td>Adventure,Fantasy,Action,Drama</td>\n",
       "      <td>en</td>\n",
       "      <td>A man named Farmer sets out to rescue his kidn...</td>\n",
       "      <td>15.159</td>\n",
       "      <td>2007-11-29</td>\n",
       "      <td>4.7</td>\n",
       "      <td>668</td>\n",
       "      <td>1713558</td>\n",
       "      <td>1</td>\n",
       "      <td>2004-05-01</td>\n",
       "    </tr>\n",
       "    <tr>\n",
       "      <th>24029947</th>\n",
       "      <td>2312</td>\n",
       "      <td>In the Name of the King: A Dungeon Siege Tale</td>\n",
       "      <td>Adventure,Fantasy,Action,Drama</td>\n",
       "      <td>en</td>\n",
       "      <td>A man named Farmer sets out to rescue his kidn...</td>\n",
       "      <td>15.159</td>\n",
       "      <td>2007-11-29</td>\n",
       "      <td>4.7</td>\n",
       "      <td>668</td>\n",
       "      <td>2636875</td>\n",
       "      <td>5</td>\n",
       "      <td>2004-03-28</td>\n",
       "    </tr>\n",
       "    <tr>\n",
       "      <th>24029948</th>\n",
       "      <td>2312</td>\n",
       "      <td>In the Name of the King: A Dungeon Siege Tale</td>\n",
       "      <td>Adventure,Fantasy,Action,Drama</td>\n",
       "      <td>en</td>\n",
       "      <td>A man named Farmer sets out to rescue his kidn...</td>\n",
       "      <td>15.159</td>\n",
       "      <td>2007-11-29</td>\n",
       "      <td>4.7</td>\n",
       "      <td>668</td>\n",
       "      <td>1203467</td>\n",
       "      <td>1</td>\n",
       "      <td>2004-11-29</td>\n",
       "    </tr>\n",
       "  </tbody>\n",
       "</table>\n",
       "</div>"
      ],
      "text/plain": [
       "          MovieID                                          title  \\\n",
       "24029944     2312  In the Name of the King: A Dungeon Siege Tale   \n",
       "24029945     2312  In the Name of the King: A Dungeon Siege Tale   \n",
       "24029946     2312  In the Name of the King: A Dungeon Siege Tale   \n",
       "24029947     2312  In the Name of the King: A Dungeon Siege Tale   \n",
       "24029948     2312  In the Name of the King: A Dungeon Siege Tale   \n",
       "\n",
       "                                   genre original_language  \\\n",
       "24029944  Adventure,Fantasy,Action,Drama                en   \n",
       "24029945  Adventure,Fantasy,Action,Drama                en   \n",
       "24029946  Adventure,Fantasy,Action,Drama                en   \n",
       "24029947  Adventure,Fantasy,Action,Drama                en   \n",
       "24029948  Adventure,Fantasy,Action,Drama                en   \n",
       "\n",
       "                                                   overview  popularity  \\\n",
       "24029944  A man named Farmer sets out to rescue his kidn...      15.159   \n",
       "24029945  A man named Farmer sets out to rescue his kidn...      15.159   \n",
       "24029946  A man named Farmer sets out to rescue his kidn...      15.159   \n",
       "24029947  A man named Farmer sets out to rescue his kidn...      15.159   \n",
       "24029948  A man named Farmer sets out to rescue his kidn...      15.159   \n",
       "\n",
       "         release_date  vote_average  vote_count  CustomerID  Rating  \\\n",
       "24029944   2007-11-29           4.7         668     1969084       3   \n",
       "24029945   2007-11-29           4.7         668      208724       1   \n",
       "24029946   2007-11-29           4.7         668     1713558       1   \n",
       "24029947   2007-11-29           4.7         668     2636875       5   \n",
       "24029948   2007-11-29           4.7         668     1203467       1   \n",
       "\n",
       "          RatingDate  \n",
       "24029944  2005-06-02  \n",
       "24029945  2004-08-02  \n",
       "24029946  2004-05-01  \n",
       "24029947  2004-03-28  \n",
       "24029948  2004-11-29  "
      ]
     },
     "execution_count": 14,
     "metadata": {},
     "output_type": "execute_result"
    }
   ],
   "source": [
    "concatenated_data.tail()"
   ]
  },
  {
   "cell_type": "code",
   "execution_count": 15,
   "id": "d17b4c91-3042-4607-aa1c-89ad13e42493",
   "metadata": {},
   "outputs": [],
   "source": [
    "concatenated_data['overview'] = concatenated_data['overview'].fillna('')"
   ]
  },
  {
   "cell_type": "code",
   "execution_count": 16,
   "id": "f1ab9e2a-ff92-46a0-8570-4f8e688f9439",
   "metadata": {},
   "outputs": [
    {
     "data": {
      "text/plain": [
       "MovieID              0\n",
       "title                0\n",
       "genre                0\n",
       "original_language    0\n",
       "overview             0\n",
       "popularity           0\n",
       "release_date         0\n",
       "vote_average         0\n",
       "vote_count           0\n",
       "CustomerID           0\n",
       "Rating               0\n",
       "RatingDate           0\n",
       "dtype: int64"
      ]
     },
     "execution_count": 16,
     "metadata": {},
     "output_type": "execute_result"
    }
   ],
   "source": [
    "concatenated_data.isnull().sum()"
   ]
  },
  {
   "cell_type": "code",
   "execution_count": null,
   "id": "f156e806-bc76-4d3d-a1af-0bbc3091c6bb",
   "metadata": {},
   "outputs": [],
   "source": []
  },
  {
   "cell_type": "code",
   "execution_count": null,
   "id": "02a76b6a-0617-4d87-804e-65b7786fd8ff",
   "metadata": {},
   "outputs": [],
   "source": []
  },
  {
   "cell_type": "code",
   "execution_count": 17,
   "id": "b087c32b-e9bc-4dab-a7ae-7be155ab3577",
   "metadata": {},
   "outputs": [
    {
     "name": "stdout",
     "output_type": "stream",
     "text": [
      "          MovieID  CustomerID  Rating\n",
      "0             278     1673256       2\n",
      "1             278      882735       2\n",
      "2             278     2542972       2\n",
      "3             278     1174202       1\n",
      "4             278     2434480       1\n",
      "...           ...         ...     ...\n",
      "24029944     2312     1969084       3\n",
      "24029945     2312      208724       1\n",
      "24029946     2312     1713558       1\n",
      "24029947     2312     2636875       5\n",
      "24029948     2312     1203467       1\n",
      "\n",
      "[24029949 rows x 3 columns]\n"
     ]
    }
   ],
   "source": [
    "# Drop the specified columns from the concatenated DataFrame to create ratings_df\n",
    "ratings_df = concatenated_data.drop(columns=['title', 'genre', 'original_language', 'overview', 'popularity', 'release_date', 'vote_average', 'vote_count', 'RatingDate'])\n",
    "\n",
    "# Display the ratings_df DataFrame\n",
    "print(ratings_df)\n"
   ]
  },
  {
   "cell_type": "code",
   "execution_count": 18,
   "id": "cd1090ed-c2b9-4382-b2a1-70dc0c134c82",
   "metadata": {},
   "outputs": [
    {
     "name": "stderr",
     "output_type": "stream",
     "text": [
      "/tmp/ipykernel_934/2228713374.py:4: DeprecationWarning: DataFrameGroupBy.apply operated on the grouping columns. This behavior is deprecated, and in a future version of pandas the grouping columns will be excluded from the operation. Either pass `include_groups=False` to exclude the groupings or explicitly select the grouping columns after groupby to silence this warning.\n",
      "  random_ratings = ratings_df.groupby('MovieID').apply(lambda x: x.sample(n=5, random_state=42))\n"
     ]
    }
   ],
   "source": [
    "# Assuming ratings_df contains the original dataset\n",
    "\n",
    "# Step 1: Randomly select five ratings for each movie\n",
    "random_ratings = ratings_df.groupby('MovieID').apply(lambda x: x.sample(n=5, random_state=42))\n",
    "\n",
    "# Step 2: Filter the dataset to keep only the selected ratings\n",
    "filtered_ratings_df = ratings_df[ratings_df.index.isin(random_ratings.index)]\n",
    "\n",
    "# Now, filtered_ratings_df contains data for all 10,000 movie titles with only five random user ratings for each movie.\n"
   ]
  },
  {
   "cell_type": "code",
   "execution_count": 19,
   "id": "38e0a0b3-b0ec-4ec4-9e25-24c10d6832d0",
   "metadata": {},
   "outputs": [
    {
     "name": "stdout",
     "output_type": "stream",
     "text": [
      "<class 'pandas.core.frame.DataFrame'>\n",
      "MultiIndex: 22040 entries, (5, 22270703) to (17710, 15496607)\n",
      "Data columns (total 3 columns):\n",
      " #   Column      Non-Null Count  Dtype\n",
      "---  ------      --------------  -----\n",
      " 0   MovieID     22040 non-null  int64\n",
      " 1   CustomerID  22040 non-null  int64\n",
      " 2   Rating      22040 non-null  int64\n",
      "dtypes: int64(3)\n",
      "memory usage: 1.4 MB\n"
     ]
    }
   ],
   "source": [
    "random_ratings.info()"
   ]
  },
  {
   "cell_type": "code",
   "execution_count": 20,
   "id": "5f5fd6a8-b96f-4482-9219-8ad0b281a67a",
   "metadata": {},
   "outputs": [
    {
     "data": {
      "text/html": [
       "<div>\n",
       "<style scoped>\n",
       "    .dataframe tbody tr th:only-of-type {\n",
       "        vertical-align: middle;\n",
       "    }\n",
       "\n",
       "    .dataframe tbody tr th {\n",
       "        vertical-align: top;\n",
       "    }\n",
       "\n",
       "    .dataframe thead th {\n",
       "        text-align: right;\n",
       "    }\n",
       "</style>\n",
       "<table border=\"1\" class=\"dataframe\">\n",
       "  <thead>\n",
       "    <tr style=\"text-align: right;\">\n",
       "      <th></th>\n",
       "      <th></th>\n",
       "      <th>MovieID</th>\n",
       "      <th>CustomerID</th>\n",
       "      <th>Rating</th>\n",
       "    </tr>\n",
       "    <tr>\n",
       "      <th>MovieID</th>\n",
       "      <th></th>\n",
       "      <th></th>\n",
       "      <th></th>\n",
       "      <th></th>\n",
       "    </tr>\n",
       "  </thead>\n",
       "  <tbody>\n",
       "    <tr>\n",
       "      <th rowspan=\"5\" valign=\"top\">17710</th>\n",
       "      <th>15496604</th>\n",
       "      <td>17710</td>\n",
       "      <td>2457583</td>\n",
       "      <td>3</td>\n",
       "    </tr>\n",
       "    <tr>\n",
       "      <th>15496549</th>\n",
       "      <td>17710</td>\n",
       "      <td>1576975</td>\n",
       "      <td>2</td>\n",
       "    </tr>\n",
       "    <tr>\n",
       "      <th>15496649</th>\n",
       "      <td>17710</td>\n",
       "      <td>1461667</td>\n",
       "      <td>3</td>\n",
       "    </tr>\n",
       "    <tr>\n",
       "      <th>15496609</th>\n",
       "      <td>17710</td>\n",
       "      <td>2074041</td>\n",
       "      <td>1</td>\n",
       "    </tr>\n",
       "    <tr>\n",
       "      <th>15496607</th>\n",
       "      <td>17710</td>\n",
       "      <td>2075696</td>\n",
       "      <td>2</td>\n",
       "    </tr>\n",
       "  </tbody>\n",
       "</table>\n",
       "</div>"
      ],
      "text/plain": [
       "                  MovieID  CustomerID  Rating\n",
       "MovieID                                      \n",
       "17710   15496604    17710     2457583       3\n",
       "        15496549    17710     1576975       2\n",
       "        15496649    17710     1461667       3\n",
       "        15496609    17710     2074041       1\n",
       "        15496607    17710     2075696       2"
      ]
     },
     "execution_count": 20,
     "metadata": {},
     "output_type": "execute_result"
    }
   ],
   "source": [
    "random_ratings.tail()"
   ]
  },
  {
   "cell_type": "code",
   "execution_count": 21,
   "id": "a8853091-78c6-4eef-a4f3-b5a4cd851ff3",
   "metadata": {
    "scrolled": true
   },
   "outputs": [],
   "source": [
    "#pip install surprise\n"
   ]
  },
  {
   "cell_type": "code",
   "execution_count": 22,
   "id": "24322b5c-67a3-4e67-aeba-f25e7f04c74c",
   "metadata": {},
   "outputs": [],
   "source": [
    "#pip install scikit-surprise"
   ]
  },
  {
   "cell_type": "code",
   "execution_count": 23,
   "id": "1c693670-e2ed-47c9-a3d5-c816c99627ac",
   "metadata": {},
   "outputs": [
    {
     "name": "stderr",
     "output_type": "stream",
     "text": [
      "Cross-validation:  20%|█████████████████████████▏                                                                                                    | 1/5 [03:31<14:06, 211.54s/it]"
     ]
    },
    {
     "name": "stdout",
     "output_type": "stream",
     "text": [
      "RMSE: 0.8571\n",
      "MAE:  0.6913\n"
     ]
    },
    {
     "name": "stderr",
     "output_type": "stream",
     "text": [
      "Cross-validation:  40%|██████████████████████████████████████████████████▍                                                                           | 2/5 [08:55<13:52, 277.64s/it]"
     ]
    },
    {
     "name": "stdout",
     "output_type": "stream",
     "text": [
      "RMSE: 0.8720\n",
      "MAE:  0.7040\n"
     ]
    },
    {
     "name": "stderr",
     "output_type": "stream",
     "text": [
      "Cross-validation:  60%|███████████████████████████████████████████████████████████████████████████▌                                                  | 3/5 [16:08<11:37, 348.52s/it]"
     ]
    },
    {
     "name": "stdout",
     "output_type": "stream",
     "text": [
      "RMSE: 0.8729\n",
      "MAE:  0.7060\n"
     ]
    },
    {
     "name": "stderr",
     "output_type": "stream",
     "text": [
      "Cross-validation:  80%|████████████████████████████████████████████████████████████████████████████████████████████████████▊                         | 4/5 [24:49<06:56, 416.82s/it]"
     ]
    },
    {
     "name": "stdout",
     "output_type": "stream",
     "text": [
      "RMSE: 0.8703\n",
      "MAE:  0.7002\n"
     ]
    },
    {
     "name": "stderr",
     "output_type": "stream",
     "text": [
      "Cross-validation: 100%|██████████████████████████████████████████████████████████████████████████████████████████████████████████████████████████████| 5/5 [34:50<00:00, 418.12s/it]"
     ]
    },
    {
     "name": "stdout",
     "output_type": "stream",
     "text": [
      "RMSE: 0.8685\n",
      "MAE:  0.7004\n",
      "Average RMSE: 0.8681714098244072\n",
      "Average MAE: 0.700397758417764\n"
     ]
    },
    {
     "name": "stderr",
     "output_type": "stream",
     "text": [
      "\n"
     ]
    }
   ],
   "source": [
    "from surprise.model_selection import KFold, train_test_split\n",
    "from surprise.accuracy import rmse, mae\n",
    "from surprise import Reader, Dataset, SVD\n",
    "from tqdm import tqdm\n",
    "\n",
    "# Subsample the ratings_df DataFrame\n",
    "sampled_ratings_df = random_ratings\n",
    "\n",
    "# Load the dataset into Surprise's format\n",
    "reader = Reader(rating_scale=(1, 10))\n",
    "data = Dataset.load_from_df(sampled_ratings_df[['CustomerID', 'MovieID', 'Rating']], reader)\n",
    "\n",
    "# Use the SVD algorithm\n",
    "algo = SVD()\n",
    "\n",
    "# Define the number of folds\n",
    "kf = KFold(n_splits=5)\n",
    "\n",
    "# Initialize lists to store results\n",
    "rmse_list = []\n",
    "mae_list = []\n",
    "\n",
    "# Initialize dictionary to store collaborative recommendations\n",
    "collaborative_recs = {}\n",
    "\n",
    "# Perform cross-validation with progress display\n",
    "with tqdm(total=5, desc='Cross-validation') as pbar:  # 5-fold cross-validation\n",
    "    for trainset, testset in kf.split(data):\n",
    "        # Train the algorithm\n",
    "        algo.fit(trainset)\n",
    "        \n",
    "        # Generate recommendations for test set\n",
    "        testset_user_ids = set([uid for uid, _, _ in testset])\n",
    "        for user_id in testset_user_ids:\n",
    "            # Get recommendations for the current user\n",
    "            user_recs = algo.test([(user_id, iid, None) for iid in sampled_ratings_df['MovieID'].unique()])\n",
    "            # Store recommendations in the dictionary\n",
    "            collaborative_recs[user_id] = [(int(pred.iid), pred.est) for pred in user_recs]\n",
    "        \n",
    "        # Split the data into train and test sets\n",
    "        trainset, testset = train_test_split(data, test_size=0.2)\n",
    "        \n",
    "        # Predict ratings for test set\n",
    "        predictions = algo.test(testset)\n",
    "        \n",
    "        # Compute and store RMSE and MAE\n",
    "        rmse_list.append(rmse(predictions))\n",
    "        mae_list.append(mae(predictions))\n",
    "        \n",
    "        # Update progress bar\n",
    "        pbar.update(1)\n",
    "\n",
    "# Calculate average RMSE and MAE\n",
    "avg_rmse = sum(rmse_list) / len(rmse_list)\n",
    "avg_mae = sum(mae_list) / len(mae_list)\n",
    "\n",
    "# Print results\n",
    "print(\"Average RMSE:\", avg_rmse)\n",
    "print(\"Average MAE:\", avg_mae)\n",
    "\n",
    "\n"
   ]
  },
  {
   "cell_type": "code",
   "execution_count": 219,
   "id": "6729cf9d-f4a0-46e2-b2d8-d75f60190953",
   "metadata": {},
   "outputs": [
    {
     "name": "stdout",
     "output_type": "stream",
     "text": [
      "No recommendations found for customer with ID 1461667\n"
     ]
    }
   ],
   "source": [
    "# Access recommendations for a specific customer (for example, customer with ID 123)\n",
    "customer_id = 1461667\n",
    "if customer_id in collaborative_recs:\n",
    "    print(\"Recommendations for Customer\", customer_id)\n",
    "    for i, (movie_id, est_rating) in enumerate(collaborative_recs[customer_id][:10]):\n",
    "        print(f\"Recommendation {i+1}: Movie ID {movie_id}, Estimated Rating {est_rating}\")\n",
    "else:\n",
    "    print(f\"No recommendations found for customer with ID {customer_id}\")\n"
   ]
  },
  {
   "cell_type": "code",
   "execution_count": 220,
   "id": "0b40f9ae-e6de-4cf1-9267-333d4dd57039",
   "metadata": {},
   "outputs": [
    {
     "name": "stdout",
     "output_type": "stream",
     "text": [
      "Movie IDs Present in Collaborative Recommendations: [(11905, 2.8096243817692423), (9702, 3.5236436218145584), (11654, 2.967967383387211), (6346, 2.849841725667574), (4108, 2.8557097736832224), (9257, 3.363232092543531), (395, 3.5643663516076463), (1696, 3.425585549370321), (16234, 3.4128069669442587), (1610, 3.516716020358875)]\n"
     ]
    }
   ],
   "source": [
    "# Extract only the movie IDs from collaborative recommendations\n",
    "movie_ids_collaborative = set()\n",
    "for recs in collaborative_recs.values():\n",
    "    movie_ids_collaborative.update(recs)\n",
    "\n",
    "# Print a small list of movie IDs present in collaborative recommendations\n",
    "print(\"Movie IDs Present in Collaborative Recommendations:\", list(movie_ids_collaborative)[:10])\n"
   ]
  },
  {
   "cell_type": "code",
   "execution_count": 222,
   "id": "950a85fd-d03d-4716-b53c-0085f4eb5418",
   "metadata": {},
   "outputs": [
    {
     "name": "stdout",
     "output_type": "stream",
     "text": [
      "Sample CustomerIDs:\n",
      "1773018\n",
      "1435417\n",
      "592122\n",
      "2436412\n",
      "77747\n",
      "334429\n",
      "152955\n",
      "2542463\n",
      "266808\n",
      "2312192\n",
      "713544\n",
      "766434\n",
      "1559022\n",
      "1113503\n",
      "1438614\n",
      "2479015\n",
      "1217301\n",
      "2438832\n",
      "1216755\n",
      "2291170\n",
      "1526236\n",
      "407560\n",
      "2513009\n",
      "506757\n",
      "2522018\n",
      "2198754\n",
      "1079992\n",
      "15294\n",
      "840644\n",
      "1133807\n",
      "2457095\n",
      "969982\n",
      "1474804\n",
      "2018665\n",
      "1379819\n",
      "1865396\n",
      "704069\n",
      "135625\n",
      "433647\n",
      "992021\n",
      "824434\n",
      "465038\n",
      "528661\n",
      "1618112\n",
      "117065\n",
      "885323\n",
      "2512235\n",
      "912197\n",
      "559470\n",
      "952156\n",
      "1037245\n",
      "1132985\n",
      "964320\n",
      "118914\n",
      "2120912\n",
      "462584\n",
      "1254903\n",
      "842185\n",
      "897130\n",
      "774018\n",
      "2389769\n",
      "2068869\n",
      "826849\n",
      "2431045\n",
      "2193332\n",
      "1403217\n",
      "1425157\n",
      "923631\n",
      "1430108\n",
      "1849541\n",
      "525356\n",
      "2512456\n",
      "1481083\n",
      "178588\n",
      "2645276\n",
      "2240661\n",
      "2297136\n",
      "769702\n",
      "2176465\n",
      "2638601\n",
      "1399569\n",
      "1017210\n",
      "125713\n",
      "1478543\n",
      "845300\n",
      "1530469\n",
      "1120820\n",
      "92849\n",
      "830947\n",
      "2046148\n",
      "234593\n",
      "522221\n",
      "1226844\n",
      "420350\n",
      "1804938\n",
      "1056502\n",
      "1953804\n",
      "983607\n",
      "2618437\n",
      "453831\n"
     ]
    }
   ],
   "source": [
    "# Print a few CustomerIDs from the dataset\n",
    "print(\"Sample CustomerIDs:\")\n",
    "for customer_id in sampled_ratings_df['CustomerID'].unique()[:100]:\n",
    "    print(customer_id)\n"
   ]
  },
  {
   "cell_type": "code",
   "execution_count": 223,
   "id": "1e6d7b98-ec14-4c44-a30e-409aa1ff4e67",
   "metadata": {},
   "outputs": [
    {
     "name": "stdout",
     "output_type": "stream",
     "text": [
      "Recommendations for CustomerID 830947\n",
      "Recommendation 1: Movie ID 5, Estimated Rating 3.7290679414473833\n",
      "Recommendation 2: Movie ID 6, Estimated Rating 3.0081973422983808\n",
      "Recommendation 3: Movie ID 11, Estimated Rating 3.526588398573328\n",
      "Recommendation 4: Movie ID 12, Estimated Rating 3.5775231493959825\n",
      "Recommendation 5: Movie ID 13, Estimated Rating 3.9153273524252343\n",
      "Recommendation 6: Movie ID 14, Estimated Rating 3.3418318627781995\n",
      "Recommendation 7: Movie ID 15, Estimated Rating 3.5510171835771636\n",
      "Recommendation 8: Movie ID 16, Estimated Rating 3.497674968177725\n",
      "Recommendation 9: Movie ID 17, Estimated Rating 3.6183950066226664\n",
      "Recommendation 10: Movie ID 18, Estimated Rating 3.7006013327461433\n"
     ]
    }
   ],
   "source": [
    "# Access recommendations for a specific CustomerID (for example, CustomerID 123)\n",
    "CustomerID = 830947\n",
    "if CustomerID in collaborative_recs:\n",
    "    print(\"Recommendations for CustomerID\", CustomerID)\n",
    "    for i, (movie_id, est_rating) in enumerate(collaborative_recs[CustomerID][:10]):\n",
    "        print(f\"Recommendation {i+1}: Movie ID {movie_id}, Estimated Rating {est_rating}\")\n",
    "else:\n",
    "    print(f\"No recommendations found for CustomerID {CustomerID}\")\n"
   ]
  },
  {
   "cell_type": "code",
   "execution_count": null,
   "id": "2b725911-bc1a-49ae-933a-d04f03ad2f98",
   "metadata": {},
   "outputs": [],
   "source": []
  },
  {
   "cell_type": "code",
   "execution_count": 24,
   "id": "54278dff-7c83-4f2b-b0b5-61129ab7e0ff",
   "metadata": {},
   "outputs": [],
   "source": [
    "##Content-Based Filtering Using TF-IDF"
   ]
  },
  {
   "cell_type": "code",
   "execution_count": 25,
   "id": "15db7bd2-0354-4eaa-94e1-145facc545c5",
   "metadata": {},
   "outputs": [
    {
     "name": "stdout",
     "output_type": "stream",
     "text": [
      "Requirement already satisfied: scikit-learn in ./myenv/lib/python3.11/site-packages (1.4.1.post1)\n",
      "Requirement already satisfied: numpy<2.0,>=1.19.5 in ./myenv/lib/python3.11/site-packages (from scikit-learn) (1.26.4)\n",
      "Requirement already satisfied: scipy>=1.6.0 in ./myenv/lib/python3.11/site-packages (from scikit-learn) (1.12.0)\n",
      "Requirement already satisfied: joblib>=1.2.0 in ./myenv/lib/python3.11/site-packages (from scikit-learn) (1.3.2)\n",
      "Requirement already satisfied: threadpoolctl>=2.0.0 in ./myenv/lib/python3.11/site-packages (from scikit-learn) (3.3.0)\n"
     ]
    }
   ],
   "source": [
    "!pip install scikit-learn\n"
   ]
  },
  {
   "cell_type": "code",
   "execution_count": 26,
   "id": "2912eda9-fafd-4c2c-bae6-f613cb9d8f07",
   "metadata": {},
   "outputs": [
    {
     "name": "stdout",
     "output_type": "stream",
     "text": [
      "<class 'pandas.core.frame.DataFrame'>\n",
      "RangeIndex: 10000 entries, 0 to 9999\n",
      "Data columns (total 10 columns):\n",
      " #   Column             Non-Null Count  Dtype         \n",
      "---  ------             --------------  -----         \n",
      " 0   MovieID            10000 non-null  int64         \n",
      " 1   title              10000 non-null  object        \n",
      " 2   genre              10000 non-null  object        \n",
      " 3   original_language  10000 non-null  object        \n",
      " 4   overview           10000 non-null  object        \n",
      " 5   popularity         10000 non-null  float64       \n",
      " 6   release_date       10000 non-null  datetime64[ns]\n",
      " 7   vote_average       10000 non-null  float64       \n",
      " 8   vote_count         10000 non-null  int64         \n",
      " 9   genres             9997 non-null   object        \n",
      "dtypes: datetime64[ns](1), float64(2), int64(2), object(5)\n",
      "memory usage: 781.4+ KB\n"
     ]
    }
   ],
   "source": [
    "df.info()"
   ]
  },
  {
   "cell_type": "code",
   "execution_count": 62,
   "id": "26bb34dd-6b04-4166-a070-f9f21283bcc1",
   "metadata": {},
   "outputs": [
    {
     "name": "stdout",
     "output_type": "stream",
     "text": [
      "Recommendations for 'The Dark Knight':\n",
      "1059       Batman: The Long Halloween, Part One\n",
      "1101       Batman: The Long Halloween, Part Two\n",
      "688                       The Dark Knight Rises\n",
      "2410                                     Batman\n",
      "5010                   Batman: The Killing Joke\n",
      "342     Batman: The Dark Knight Returns, Part 2\n",
      "709                                  The Batman\n",
      "9434                             Batman Forever\n",
      "655                  Batman: Under the Red Hood\n",
      "4508                 Batman: Gotham by Gaslight\n",
      "Name: title, dtype: object\n"
     ]
    }
   ],
   "source": [
    "from sklearn.feature_extraction.text import TfidfVectorizer\n",
    "from sklearn.metrics.pairwise import linear_kernel\n",
    "\n",
    "# Define TF-IDF Vectorizer\n",
    "tfidf = TfidfVectorizer(stop_words='english')\n",
    "\n",
    "# Prepare the TF-IDF matrix by fitting and transforming the data\n",
    "tfidf_matrix = tfidf.fit_transform(df['overview'])\n",
    "\n",
    "# Compute the cosine similarity matrix\n",
    "cosine_sim = linear_kernel(tfidf_matrix, tfidf_matrix)\n",
    "\n",
    "# Function to get recommendations based on cosine similarity\n",
    "def get_recommendations(title, cosine_sim=cosine_sim, df=df):\n",
    "    # Get the index of the movie that matches the title\n",
    "    idx = df.index[df['title'] == title].tolist()[0]\n",
    "\n",
    "    # Get the pairwsie similarity scores of all movies with that movie\n",
    "    sim_scores = list(enumerate(cosine_sim[idx]))\n",
    "\n",
    "    # Sort the movies based on the similarity scores\n",
    "    sim_scores = sorted(sim_scores, key=lambda x: x[1], reverse=True)\n",
    "\n",
    "    # Get the scores of the 10 most similar movies\n",
    "    sim_scores = sim_scores[1:11]\n",
    "\n",
    "    # Get the movie indices\n",
    "    movie_indices = [i[0] for i in sim_scores]\n",
    "\n",
    "    # Return the top 10 most similar movies\n",
    "    return df['title'].iloc[movie_indices]\n",
    "\n",
    "# Function to get recommendations for any movie\n",
    "def get_recommendations_for_movie(title):\n",
    "    return get_recommendations(title)\n",
    "\n",
    "# Example usage: Get recommendations for a specific movie\n",
    "movie_title = \"The Dark Knight\"\n",
    "recommendations = get_recommendations_for_movie(movie_title)\n",
    "print(\"Recommendations for '{}':\".format(movie_title))\n",
    "print(recommendations)\n"
   ]
  },
  {
   "cell_type": "code",
   "execution_count": 67,
   "id": "2ab04954-ecb3-45b3-9a99-c2ede739c9cd",
   "metadata": {},
   "outputs": [],
   "source": [
    "from sklearn.feature_extraction.text import TfidfVectorizer\n",
    "from sklearn.metrics.pairwise import linear_kernel\n",
    "\n",
    "# Convert titles in the DataFrame to lowercase and remove spaces\n",
    "df['title_clean'] = df['title'].str.lower().str.replace(' ', '')\n",
    "\n",
    "# Define TF-IDF Vectorizer\n",
    "tfidf = TfidfVectorizer(stop_words='english')\n",
    "\n",
    "# Prepare the TF-IDF matrix by fitting and transforming the data\n",
    "tfidf_matrix = tfidf.fit_transform(df['overview'])\n",
    "\n",
    "# Compute the cosine similarity matrix\n",
    "cosine_sim = linear_kernel(tfidf_matrix, tfidf_matrix)\n",
    "\n",
    "# Function to get recommendations based on cosine similarity\n",
    "def get_recommendations(title, cosine_sim=cosine_sim, df=df):\n",
    "    # Clean the input title\n",
    "    title_clean = title.lower().replace(' ', '')\n",
    "\n",
    "    # Get the index of the movie that matches the title\n",
    "    idx = df.index[df['title_clean'] == title_clean].tolist()[0]\n",
    "\n",
    "    # Get the pairwsie similarity scores of all movies with that movie\n",
    "    sim_scores = list(enumerate(cosine_sim[idx]))\n",
    "\n",
    "    # Sort the movies based on the similarity scores\n",
    "    sim_scores = sorted(sim_scores, key=lambda x: x[1], reverse=True)\n",
    "\n",
    "    # Get the scores of the 10 most similar movies\n",
    "    sim_scores = sim_scores[1:11]\n",
    "\n",
    "    # Get the movie indices\n",
    "    movie_indices = [i[0] for i in sim_scores]\n",
    "\n",
    "    # Return the top 10 most similar movies\n",
    "    return df['title'].iloc[movie_indices]\n",
    "\n",
    "# Function to get recommendations for any movie\n",
    "def get_recommendations_for_movie(title):\n",
    "    return get_recommendations(title)\n",
    "\n",
    "\n"
   ]
  },
  {
   "cell_type": "code",
   "execution_count": 27,
   "id": "7f9d3318-11d4-441d-b309-b849b7dd4576",
   "metadata": {},
   "outputs": [
    {
     "name": "stderr",
     "output_type": "stream",
     "text": [
      "100%|████████████████████████████████████████████████████████████████████████████████████████████████████████████████████████████████████████| 10000/10000 [01:11<00:00, 138.94it/s]\n"
     ]
    }
   ],
   "source": [
    "from sklearn.feature_extraction.text import TfidfVectorizer\n",
    "from sklearn.metrics.pairwise import linear_kernel\n",
    "from tqdm import tqdm\n",
    "\n",
    "# Define TF-IDF Vectorizer\n",
    "tfidf = TfidfVectorizer(stop_words='english')\n",
    "\n",
    "# Prepare the TF-IDF matrix by fitting and transforming the data\n",
    "tfidf_matrix = tfidf.fit_transform(df['overview'])\n",
    "\n",
    "# Compute the cosine similarity matrix\n",
    "cosine_sim = linear_kernel(tfidf_matrix, tfidf_matrix)\n",
    "\n",
    "# Initialize dictionary to store content-based recommendations for all movies\n",
    "content_based_recs = {}\n",
    "\n",
    "# Function to get recommendations based on cosine similarity\n",
    "def get_recommendations(title, cosine_sim=cosine_sim):\n",
    "    # Get the index of the movie that matches the title\n",
    "    idx = df.index[df['title'] == title].tolist()[0]\n",
    "\n",
    "    # Get the pairwsie similarity scores of all movies with that movie\n",
    "    sim_scores = list(enumerate(cosine_sim[idx]))\n",
    "\n",
    "    # Sort the movies based on the similarity scores\n",
    "    sim_scores = sorted(sim_scores, key=lambda x: x[1], reverse=True)\n",
    "\n",
    "    # Get the scores of the 10 most similar movies\n",
    "    sim_scores = sim_scores[1:11]\n",
    "\n",
    "    # Get the movie indices\n",
    "    movie_indices = [i[0] for i in sim_scores]\n",
    "\n",
    "    # Return the top 10 most similar movies\n",
    "    return df['title'].iloc[movie_indices]\n",
    "\n",
    "# Iterate over each movie title with progress display\n",
    "with tqdm(total=len(df['title'])) as pbar:\n",
    "    for title in df['title']:\n",
    "        # Get recommendations for the current movie title\n",
    "        recommendations = get_recommendations(title)\n",
    "        \n",
    "        # Store recommendations in the dictionary\n",
    "        content_based_recs[title] = recommendations\n",
    "        \n",
    "        # Update progress bar\n",
    "        pbar.update(1)\n",
    "\n",
    "\n"
   ]
  },
  {
   "cell_type": "code",
   "execution_count": 73,
   "id": "3a68f11c-89ef-4fbf-81fa-9f01f2e0c3c6",
   "metadata": {},
   "outputs": [
    {
     "name": "stdout",
     "output_type": "stream",
     "text": [
      "Collecting fuzzywuzzy\n",
      "  Downloading fuzzywuzzy-0.18.0-py2.py3-none-any.whl (18 kB)\n",
      "Installing collected packages: fuzzywuzzy\n",
      "Successfully installed fuzzywuzzy-0.18.0\n",
      "Note: you may need to restart the kernel to use updated packages.\n"
     ]
    }
   ],
   "source": [
    "pip install fuzzywuzzy"
   ]
  },
  {
   "cell_type": "code",
   "execution_count": 74,
   "id": "d100fdb3-3c39-473d-b627-68ab85045ba7",
   "metadata": {},
   "outputs": [
    {
     "name": "stderr",
     "output_type": "stream",
     "text": [
      "/home/mp73467n/myenv/lib/python3.11/site-packages/fuzzywuzzy/fuzz.py:11: UserWarning: Using slow pure-python SequenceMatcher. Install python-Levenshtein to remove this warning\n",
      "  warnings.warn('Using slow pure-python SequenceMatcher. Install python-Levenshtein to remove this warning')\n"
     ]
    }
   ],
   "source": [
    "from sklearn.feature_extraction.text import TfidfVectorizer\n",
    "from sklearn.metrics.pairwise import linear_kernel\n",
    "from fuzzywuzzy import fuzz\n",
    "\n",
    "# Convert titles in the DataFrame to lowercase and remove spaces\n",
    "df['title_clean'] = df['title'].str.lower().str.replace(' ', '')\n",
    "\n",
    "# Define TF-IDF Vectorizer\n",
    "tfidf = TfidfVectorizer(stop_words='english')\n",
    "\n",
    "# Prepare the TF-IDF matrix by fitting and transforming the data\n",
    "tfidf_matrix = tfidf.fit_transform(df['overview'])\n",
    "\n",
    "# Compute the cosine similarity matrix\n",
    "cosine_sim = linear_kernel(tfidf_matrix, tfidf_matrix)\n",
    "\n",
    "# Function to get recommendations based on cosine similarity\n",
    "def get_recommendations(title, cosine_sim=cosine_sim, df=df):\n",
    "    # Clean the input title\n",
    "    title_clean = title.lower().replace(' ', '')\n",
    "\n",
    "    # Initialize variables for fuzzy matching\n",
    "    max_ratio = -1\n",
    "    best_title = None\n",
    "\n",
    "    # Find the best matching title using fuzzy matching\n",
    "    for index, row in df.iterrows():\n",
    "        ratio = fuzz.partial_ratio(title_clean, row['title_clean'])\n",
    "        if ratio > max_ratio:\n",
    "            max_ratio = ratio\n",
    "            best_title = row['title']\n",
    "\n",
    "    # Get the index of the best matching title\n",
    "    idx = df.index[df['title'] == best_title].tolist()[0]\n",
    "\n",
    "    # Get the pairwsie similarity scores of all movies with that movie\n",
    "    sim_scores = list(enumerate(cosine_sim[idx]))\n",
    "\n",
    "    # Sort the movies based on the similarity scores\n",
    "    sim_scores = sorted(sim_scores, key=lambda x: x[1], reverse=True)\n",
    "\n",
    "    # Get the scores of the 10 most similar movies\n",
    "    sim_scores = sim_scores[1:11]\n",
    "\n",
    "    # Get the movie indices\n",
    "    movie_indices = [i[0] for i in sim_scores]\n",
    "\n",
    "    # Return the top 10 most similar movies\n",
    "    return df['title'].iloc[movie_indices]\n",
    "\n",
    "# Function to get recommendations for any movie\n",
    "def get_recommendations_for_movie(title):\n",
    "    return get_recommendations(title)\n",
    "\n",
    "\n"
   ]
  },
  {
   "cell_type": "code",
   "execution_count": 77,
   "id": "5cf7b5e7-51b2-41c1-b6ed-912abd443af8",
   "metadata": {},
   "outputs": [
    {
     "name": "stdout",
     "output_type": "stream",
     "text": [
      "Enter a movie title:  avengers\n"
     ]
    },
    {
     "name": "stdout",
     "output_type": "stream",
     "text": [
      "Recommendations for 'avengers':\n",
      "96                    Avengers: Infinity War\n",
      "3808       Next Avengers: Heroes of Tomorrow\n",
      "1558              Captain America: Civil War\n",
      "836                       Germany, Year Zero\n",
      "8127    Attack on Titan II: End of the World\n",
      "3696                          Captain Marvel\n",
      "9014                               In Fabric\n",
      "7715                                 Haunter\n",
      "5203                    Thor: The Dark World\n",
      "232       Doctor Who: The Time of the Doctor\n",
      "Name: title, dtype: object\n"
     ]
    }
   ],
   "source": [
    "# Prompt the user to input a movie title\n",
    "movie_title = input(\"Enter a movie title: \")\n",
    "\n",
    "# Get recommendations based on the input movie title\n",
    "recommendations = get_recommendations_for_movie(movie_title)\n",
    "print(\"Recommendations for '{}':\".format(movie_title))\n",
    "print(recommendations)"
   ]
  },
  {
   "cell_type": "code",
   "execution_count": 183,
   "id": "55bb811f-d6ed-4936-bea3-528be4f49245",
   "metadata": {},
   "outputs": [],
   "source": [
    "from sklearn.feature_extraction.text import TfidfVectorizer\n",
    "from sklearn.metrics.pairwise import linear_kernel\n",
    "from fuzzywuzzy import fuzz\n",
    "from tqdm import tqdm\n",
    "\n",
    "# Convert titles in the DataFrame to lowercase and remove spaces\n",
    "df['title_clean'] = df['title'].str.lower().str.replace(' ', '')\n",
    "\n",
    "# Define TF-IDF Vectorizer\n",
    "tfidf = TfidfVectorizer(stop_words='english')\n",
    "\n",
    "# Prepare the TF-IDF matrix by fitting and transforming the data\n",
    "tfidf_matrix = tfidf.fit_transform(df['overview'])\n",
    "\n",
    "# Compute the cosine similarity matrix\n",
    "cosine_sim = linear_kernel(tfidf_matrix, tfidf_matrix)\n",
    "\n",
    "# Function to get recommendations based on cosine similarity\n",
    "def get_recommendations_with_progress(title, cosine_sim=cosine_sim, df=df):\n",
    "    # Clean the input title\n",
    "    title_clean = title.lower().replace(' ', '')\n",
    "\n",
    "    # Initialize variables for fuzzy matching\n",
    "    max_ratio = -1\n",
    "    best_title = None\n",
    "\n",
    "    # Find the best matching title using fuzzy matching\n",
    "    for index, row in df.iterrows():\n",
    "        ratio = fuzz.partial_ratio(title_clean, row['title_clean'])\n",
    "        if ratio > max_ratio:\n",
    "            max_ratio = ratio\n",
    "            best_title = row['title']\n",
    "\n",
    "    # Get the index of the best matching title\n",
    "    idx = df.index[df['title'] == best_title].tolist()[0]\n",
    "\n",
    "    # Get the pairwsie similarity scores of all movies with that movie\n",
    "    sim_scores = list(enumerate(cosine_sim[idx]))\n",
    "\n",
    "    # Sort the movies based on the similarity scores\n",
    "    sim_scores = sorted(sim_scores, key=lambda x: x[1], reverse=True)\n",
    "\n",
    "    # Get the scores of the 10 most similar movies\n",
    "    sim_scores = sim_scores[1:11]\n",
    "\n",
    "    # Get the movie indices\n",
    "    movie_indices = [i[0] for i in sim_scores]\n",
    "\n",
    "    # Store recommendations for the input movie title\n",
    "    content_based_recs[title] = list(df['title'].iloc[movie_indices])\n",
    "\n",
    "    # Return the top 10 most similar movies as a list\n",
    "    return list(df['title'].iloc[movie_indices])\n",
    "\n",
    "# Initialize content_based_recs dictionary to store recommendations for all movies\n",
    "content_based_recs = {}\n"
   ]
  },
  {
   "cell_type": "code",
   "execution_count": 209,
   "id": "02cc6b9e-872e-4161-9b99-1ec79cb51fc0",
   "metadata": {},
   "outputs": [
    {
     "name": "stdout",
     "output_type": "stream",
     "text": [
      "Enter a movie title:  the dark knight\n"
     ]
    },
    {
     "name": "stdout",
     "output_type": "stream",
     "text": [
      "Recommendations based on the dark knight :\n",
      "Batman: The Long Halloween, Part One\n",
      "Batman: The Long Halloween, Part Two\n",
      "The Dark Knight Rises\n",
      "Batman\n",
      "Batman: The Killing Joke\n",
      "Batman: The Dark Knight Returns, Part 2\n",
      "The Batman\n",
      "Batman Forever\n",
      "Batman: Under the Red Hood\n",
      "Batman: Gotham by Gaslight\n"
     ]
    }
   ],
   "source": [
    "\n",
    "# Input box to get movie title from user\n",
    "user_input = input(\"Enter a movie title: \")\n",
    "\n",
    "# Get recommendations for the input movie title\n",
    "recommendations = get_recommendations(user_input)\n",
    "\n",
    "print(\"Recommendations based on\", user_input, \":\")\n",
    "for recommendation in recommendations:\n",
    "    print(recommendation)\n"
   ]
  },
  {
   "cell_type": "code",
   "execution_count": 189,
   "id": "14aff179-f761-4ed2-ac7d-be459c6d116c",
   "metadata": {},
   "outputs": [
    {
     "name": "stdout",
     "output_type": "stream",
     "text": [
      "Type of content_based_recs_list: <class 'dict'>\n"
     ]
    }
   ],
   "source": [
    "\n",
    "print(\"Type of content_based_recs_list:\", type(content_based_recs))"
   ]
  },
  {
   "cell_type": "code",
   "execution_count": 29,
   "id": "a7a9c8ff-af97-4b3e-be14-fa902a2b62c9",
   "metadata": {},
   "outputs": [],
   "source": [
    "# Hybrid Recommendation System"
   ]
  },
  {
   "cell_type": "code",
   "execution_count": null,
   "id": "0d5a37f7-fb59-4033-9e07-d6690f9718b8",
   "metadata": {},
   "outputs": [],
   "source": []
  },
  {
   "cell_type": "code",
   "execution_count": 200,
   "id": "36e09008-0863-48f0-bfd6-dfa3630f44f4",
   "metadata": {},
   "outputs": [
    {
     "name": "stdout",
     "output_type": "stream",
     "text": [
      "Hybrid Recommendations: ['Batman Forever', 'Batman: The Killing Joke', 'Interstellar', 'Inception', 'Batman: Under the Red Hood', 'The Matrix', 'Batman', 'Batman: Gotham by Gaslight', 'Batman: The Dark Knight Returns, Part 2', 'The Dark Knight Rises', 'The Batman', 'Batman: The Long Halloween, Part Two', 'Batman: The Long Halloween, Part One']\n"
     ]
    }
   ],
   "source": [
    "# You have your data stored in `collaborative_recs` and `content_based_recs`\n",
    "\n",
    "def hybrid_recommendations():\n",
    "    # Get collaborative filtering recommendations\n",
    "    collaborative = collaborative_recs  # Remove parentheses here\n",
    "    \n",
    "    # Get content-based recommendations\n",
    "    content_based = content_based_recs  # Remove parentheses here\n",
    "    \n",
    "    # Combine recommendations, removing duplicates\n",
    "    recommendations = list(set(collaborative + content_based))\n",
    "    \n",
    "    return recommendations\n",
    "\n",
    "# Example usage:\n",
    "hybrid_recs = hybrid_recommendations()\n",
    "print(\"Hybrid Recommendations:\", hybrid_recs)\n",
    "\n"
   ]
  },
  {
   "cell_type": "code",
   "execution_count": 198,
   "id": "a5902622-f902-4001-8421-bb3cbc9d4ae2",
   "metadata": {},
   "outputs": [
    {
     "name": "stdout",
     "output_type": "stream",
     "text": [
      "Number of unique movies: 10000\n"
     ]
    }
   ],
   "source": [
    "# Check the number of unique movies based on 'MovieID'\n",
    "num_unique_movies = df['MovieID'].nunique()\n",
    "print(\"Number of unique movies:\", num_unique_movies)\n"
   ]
  },
  {
   "cell_type": "code",
   "execution_count": 165,
   "id": "d07996cf-d1f3-4719-be7e-16dc57f0c50e",
   "metadata": {},
   "outputs": [
    {
     "name": "stdout",
     "output_type": "stream",
     "text": [
      "Type of collaborative_recs: <class 'list'>\n",
      "Type of content_based_recs: <class 'pandas.core.series.Series'>\n"
     ]
    }
   ],
   "source": [
    "print(\"Type of collaborative_recs:\", type(collaborative_recs))\n",
    "print(\"Type of content_based_recs:\", type(content_based_recs))\n"
   ]
  },
  {
   "cell_type": "code",
   "execution_count": 166,
   "id": "a73675d0-4e42-4b9d-8f29-ef5a4f31ea7f",
   "metadata": {},
   "outputs": [],
   "source": [
    "import pandas as pd\n",
    "\n",
    "#content_based_recs is your pandas Series object\n",
    "content_based_recs_list = content_based_recs.tolist()\n",
    "\n",
    "# Now content_based_recs_list is a list containing the elements of content_based_recs\n"
   ]
  },
  {
   "cell_type": "code",
   "execution_count": 167,
   "id": "50fe3944-0b2d-46ed-897f-2ce32497ae69",
   "metadata": {},
   "outputs": [
    {
     "name": "stdout",
     "output_type": "stream",
     "text": [
      "Type of collaborative_recs: <class 'list'>\n",
      "Type of content_based_recs_list: <class 'list'>\n"
     ]
    }
   ],
   "source": [
    "print(\"Type of collaborative_recs:\", type(collaborative_recs))\n",
    "print(\"Type of content_based_recs_list:\", type(content_based_recs_list))\n"
   ]
  },
  {
   "cell_type": "code",
   "execution_count": 228,
   "id": "3a527503-5520-47c0-8027-17769c875f86",
   "metadata": {},
   "outputs": [
    {
     "name": "stdout",
     "output_type": "stream",
     "text": [
      "Enter a Movie Title, Movie ID, or CustomerID:  avengers\n"
     ]
    },
    {
     "name": "stdout",
     "output_type": "stream",
     "text": [
      "\n",
      "Content-Based Filtering Recommendations for 'avengers':\n",
      "['Avengers: Infinity War', 'Next Avengers: Heroes of Tomorrow', 'Captain America: Civil War', 'Germany, Year Zero', 'Attack on Titan II: End of the World', 'Captain Marvel', 'In Fabric', 'Haunter', 'Thor: The Dark World', 'Doctor Who: The Time of the Doctor']\n"
     ]
    }
   ],
   "source": [
    "def get_hybrid_recommendations(input_value):\n",
    "    if input_value.isdigit():\n",
    "        # Input is a CustomerID\n",
    "        CustomerID = int(input_value)\n",
    "        if CustomerID in collaborative_recs:\n",
    "            print(\"Collaborative Filtering Recommendations for CustomerID\", CustomerID)\n",
    "            for i, (movie_id, est_rating) in enumerate(collaborative_recs[CustomerID][:10]):\n",
    "                print(f\"Recommendation {i+1}: Movie ID {movie_id}, Estimated Rating {est_rating}\")\n",
    "        else:\n",
    "            print(f\"No collaborative filtering recommendations found for CustomerID {CustomerID}\")\n",
    "    else:\n",
    "        # Input is a movie title or movie ID\n",
    "        if input_value.isdigit():\n",
    "            movie_id = int(input_value)\n",
    "            movie_title = get_movie_title_from_id(movie_id)\n",
    "        else:\n",
    "            movie_title = input_value\n",
    "\n",
    "        # Content-based filtering recommendations for a specific movie\n",
    "        recommendations = get_recommendations_for_movie(movie_title)\n",
    "        print(\"\\nContent-Based Filtering Recommendations for '{}':\".format(movie_title))\n",
    "        print(recommendations)\n",
    "\n",
    "# Example usage:\n",
    "input_value = input(\"Enter a Movie Title, Movie ID, or CustomerID: \")\n",
    "get_hybrid_recommendations(input_value)\n"
   ]
  },
  {
   "cell_type": "code",
   "execution_count": 233,
   "id": "43a7207d-ac34-4a6f-822f-d38ca1daff74",
   "metadata": {},
   "outputs": [
    {
     "name": "stdout",
     "output_type": "stream",
     "text": [
      "Enter a Movie Title, Movie ID, or CustomerID:  842185\n"
     ]
    },
    {
     "name": "stdout",
     "output_type": "stream",
     "text": [
      "Collaborative Filtering Recommendations for CustomerID 842185\n",
      "Recommendation 1: Movie ID 5, Estimated Rating 3.5217015557248486\n",
      "Recommendation 2: Movie ID 6, Estimated Rating 2.9403227586983034\n",
      "Recommendation 3: Movie ID 11, Estimated Rating 3.4974246481248317\n",
      "Recommendation 4: Movie ID 12, Estimated Rating 3.713118145679294\n",
      "Recommendation 5: Movie ID 13, Estimated Rating 3.780180529747466\n",
      "Recommendation 6: Movie ID 14, Estimated Rating 3.5610813138871187\n",
      "Recommendation 7: Movie ID 15, Estimated Rating 3.565470606774091\n",
      "Recommendation 8: Movie ID 16, Estimated Rating 3.35572210272161\n",
      "Recommendation 9: Movie ID 17, Estimated Rating 3.50410416520919\n",
      "Recommendation 10: Movie ID 18, Estimated Rating 3.4703688422766024\n"
     ]
    }
   ],
   "source": [
    "# Example usage:\n",
    "input_value = input(\"Enter a Movie Title, Movie ID, or CustomerID: \")\n",
    "get_hybrid_recommendations(input_value)"
   ]
  },
  {
   "cell_type": "code",
   "execution_count": 261,
   "id": "a64a5666-aa27-47ed-aedb-6573bcf42367",
   "metadata": {},
   "outputs": [
    {
     "name": "stdout",
     "output_type": "stream",
     "text": [
      "Enter a Movie Title, Movie ID, or CustomerID:  \n"
     ]
    },
    {
     "name": "stdout",
     "output_type": "stream",
     "text": [
      "\n",
      "Content-Based Filtering Recommendations for '':\n",
      "['In Hell', 'Sherlock Jr.', 'Escape Plan', 'Demolition', 'Brubaker', 'The Chorus', 'The 40 Year Old Virgin', 'One Shot', 'Cool Hand Luke', 'Toy Story 3']\n"
     ]
    }
   ],
   "source": [
    "# Example usage:\n",
    "input_value = input(\"Enter a Movie Title, Movie ID, or CustomerID: \")\n",
    "get_hybrid_recommendations(input_value)\n",
    "\n"
   ]
  },
  {
   "cell_type": "code",
   "execution_count": 270,
   "id": "fd0ae4f1-3ade-49cb-bf50-df09e7ca1e3d",
   "metadata": {},
   "outputs": [
    {
     "name": "stdout",
     "output_type": "stream",
     "text": [
      "Enter a Movie Title, Movie ID, or CustomerID:  ipman\n"
     ]
    },
    {
     "name": "stdout",
     "output_type": "stream",
     "text": [
      "\n",
      "Content-Based Filtering Recommendations for 'ipman':\n",
      "['Vehicle 19', 'Memoir of a Murderer', 'Hangman', 'Replicant', '21 Bridges', 'The House That Jack Built', 'The Frozen Ground', 'Triple 9', 'The Postcard Killings', 'Kalifornia']\n"
     ]
    }
   ],
   "source": [
    "# Example usage:\n",
    "input_value = input(\"Enter a Movie Title, Movie ID, or CustomerID: \")\n",
    "get_hybrid_recommendations(input_value)\n"
   ]
  },
  {
   "cell_type": "code",
   "execution_count": null,
   "id": "9b11f5c7-324b-404b-91d0-84b50fb805d3",
   "metadata": {},
   "outputs": [],
   "source": []
  }
 ],
 "metadata": {
  "kernelspec": {
   "display_name": "Python 3 (ipykernel)",
   "language": "python",
   "name": "python3"
  },
  "language_info": {
   "codemirror_mode": {
    "name": "ipython",
    "version": 3
   },
   "file_extension": ".py",
   "mimetype": "text/x-python",
   "name": "python",
   "nbconvert_exporter": "python",
   "pygments_lexer": "ipython3",
   "version": "3.11.2"
  }
 },
 "nbformat": 4,
 "nbformat_minor": 5
}
